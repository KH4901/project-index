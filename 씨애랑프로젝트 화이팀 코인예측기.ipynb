{
  "nbformat": 4,
  "nbformat_minor": 0,
  "metadata": {
    "colab": {
      "provenance": [],
      "authorship_tag": "ABX9TyNHdqwQyYc00mNpUbK/SOeS",
      "include_colab_link": true
    },
    "kernelspec": {
      "name": "python3",
      "display_name": "Python 3"
    },
    "language_info": {
      "name": "python"
    }
  },
  "cells": [
    {
      "cell_type": "markdown",
      "metadata": {
        "id": "view-in-github",
        "colab_type": "text"
      },
      "source": [
        "<a href=\"https://colab.research.google.com/github/KH4901/project-index/blob/main/%EC%94%A8%EC%95%A0%EB%9E%91%ED%94%84%EB%A1%9C%EC%A0%9D%ED%8A%B8%20%ED%99%94%EC%9D%B4%ED%8C%80%20%EC%BD%94%EC%9D%B8%EC%98%88%EC%B8%A1%EA%B8%B0.ipynb\" target=\"_parent\"><img src=\"https://colab.research.google.com/assets/colab-badge.svg\" alt=\"Open In Colab\"/></a>"
      ]
    },
    {
      "cell_type": "code",
      "execution_count": 1,
      "metadata": {
        "colab": {
          "base_uri": "https://localhost:8080/"
        },
        "id": "WqiRBJoNBJLW",
        "outputId": "c1bae51d-2bc7-41ad-9771-aabb00568e4e"
      },
      "outputs": [
        {
          "output_type": "stream",
          "name": "stdout",
          "text": [
            "Python 3.7.15\n"
          ]
        }
      ],
      "source": [
        "!python --version"
      ]
    },
    {
      "cell_type": "code",
      "source": [
        "!pip install pyupbit"
      ],
      "metadata": {
        "colab": {
          "base_uri": "https://localhost:8080/"
        },
        "id": "K31lj71kBTcb",
        "outputId": "d2535f5a-8c47-44b3-de30-a8f90d7a210b"
      },
      "execution_count": 2,
      "outputs": [
        {
          "output_type": "stream",
          "name": "stdout",
          "text": [
            "Looking in indexes: https://pypi.org/simple, https://us-python.pkg.dev/colab-wheels/public/simple/\n",
            "Collecting pyupbit\n",
            "  Downloading pyupbit-0.2.33-py3-none-any.whl (24 kB)\n",
            "Collecting pyjwt>=2.0.0\n",
            "  Downloading PyJWT-2.6.0-py3-none-any.whl (20 kB)\n",
            "Collecting websockets\n",
            "  Downloading websockets-10.4-cp37-cp37m-manylinux_2_5_x86_64.manylinux1_x86_64.manylinux_2_17_x86_64.manylinux2014_x86_64.whl (106 kB)\n",
            "\u001b[K     |████████████████████████████████| 106 kB 20.9 MB/s \n",
            "\u001b[?25hRequirement already satisfied: pandas in /usr/local/lib/python3.7/dist-packages (from pyupbit) (1.3.5)\n",
            "Requirement already satisfied: requests in /usr/local/lib/python3.7/dist-packages (from pyupbit) (2.23.0)\n",
            "Requirement already satisfied: python-dateutil>=2.7.3 in /usr/local/lib/python3.7/dist-packages (from pandas->pyupbit) (2.8.2)\n",
            "Requirement already satisfied: numpy>=1.17.3 in /usr/local/lib/python3.7/dist-packages (from pandas->pyupbit) (1.21.6)\n",
            "Requirement already satisfied: pytz>=2017.3 in /usr/local/lib/python3.7/dist-packages (from pandas->pyupbit) (2022.6)\n",
            "Requirement already satisfied: six>=1.5 in /usr/local/lib/python3.7/dist-packages (from python-dateutil>=2.7.3->pandas->pyupbit) (1.15.0)\n",
            "Requirement already satisfied: urllib3!=1.25.0,!=1.25.1,<1.26,>=1.21.1 in /usr/local/lib/python3.7/dist-packages (from requests->pyupbit) (1.24.3)\n",
            "Requirement already satisfied: idna<3,>=2.5 in /usr/local/lib/python3.7/dist-packages (from requests->pyupbit) (2.10)\n",
            "Requirement already satisfied: chardet<4,>=3.0.2 in /usr/local/lib/python3.7/dist-packages (from requests->pyupbit) (3.0.4)\n",
            "Requirement already satisfied: certifi>=2017.4.17 in /usr/local/lib/python3.7/dist-packages (from requests->pyupbit) (2022.9.24)\n",
            "Installing collected packages: websockets, pyjwt, pyupbit\n",
            "Successfully installed pyjwt-2.6.0 pyupbit-0.2.33 websockets-10.4\n"
          ]
        }
      ]
    },
    {
      "cell_type": "code",
      "source": [
        "import pyupbit"
      ],
      "metadata": {
        "id": "1UzCbYq1BTas"
      },
      "execution_count": 3,
      "outputs": []
    },
    {
      "cell_type": "code",
      "source": [
        "!wget https://www.python.org/ftp/python/3.8.5/Python-3.8.5.tgz\n",
        "!tar xvfz Python-3.8.5.tgz\n",
        "!Python-3.8.5/configure\n",
        "!make\n",
        "!sudo make install"
      ],
      "metadata": {
        "id": "FKyNEDAaBTYc"
      },
      "execution_count": null,
      "outputs": []
    },
    {
      "cell_type": "code",
      "source": [
        "!python --version"
      ],
      "metadata": {
        "colab": {
          "base_uri": "https://localhost:8080/"
        },
        "id": "Ea-KRywbBTUT",
        "outputId": "f482f277-60f4-4c11-9c94-a320f47c0be8"
      },
      "execution_count": 5,
      "outputs": [
        {
          "output_type": "stream",
          "name": "stdout",
          "text": [
            "Python 3.8.5\n"
          ]
        }
      ]
    },
    {
      "cell_type": "code",
      "source": [
        "#BTC 최근 200시간의 데이터를 60분 단위로 불러옴\n",
        "df = pyupbit.get_ohlcv(\"KRW-BTC\", interval=\"minute60\")\n",
        "df\n"
      ],
      "metadata": {
        "colab": {
          "base_uri": "https://localhost:8080/",
          "height": 424
        },
        "id": "cCTK0kfYBTR1",
        "outputId": "38c35871-5e05-4ab8-c321-427b7a299360"
      },
      "execution_count": 6,
      "outputs": [
        {
          "output_type": "execute_result",
          "data": {
            "text/plain": [
              "                           open        high         low       close  \\\n",
              "2022-11-12 16:00:00  23301000.0  23354000.0  23213000.0  23286000.0   \n",
              "2022-11-12 17:00:00  23296000.0  23453000.0  23247000.0  23387000.0   \n",
              "2022-11-12 18:00:00  23387000.0  23491000.0  23340000.0  23423000.0   \n",
              "2022-11-12 19:00:00  23423000.0  23530000.0  23354000.0  23384000.0   \n",
              "2022-11-12 20:00:00  23383000.0  23414000.0  23326000.0  23389000.0   \n",
              "...                         ...         ...         ...         ...   \n",
              "2022-11-20 19:00:00  22959000.0  23049000.0  22942000.0  23040000.0   \n",
              "2022-11-20 20:00:00  23022000.0  23064000.0  22875000.0  22962000.0   \n",
              "2022-11-20 21:00:00  22965000.0  23002000.0  22885000.0  22896000.0   \n",
              "2022-11-20 22:00:00  22890000.0  23012000.0  22890000.0  23010000.0   \n",
              "2022-11-20 23:00:00  22988000.0  23010000.0  22955000.0  22980000.0   \n",
              "\n",
              "                         volume         value  \n",
              "2022-11-12 16:00:00  316.779965  7.382125e+09  \n",
              "2022-11-12 17:00:00  261.592983  6.110531e+09  \n",
              "2022-11-12 18:00:00  184.108123  4.311847e+09  \n",
              "2022-11-12 19:00:00  328.674653  7.702511e+09  \n",
              "2022-11-12 20:00:00  151.540851  3.541915e+09  \n",
              "...                         ...           ...  \n",
              "2022-11-20 19:00:00  233.740173  5.377531e+09  \n",
              "2022-11-20 20:00:00  420.697519  9.667227e+09  \n",
              "2022-11-20 21:00:00  265.104497  6.079106e+09  \n",
              "2022-11-20 22:00:00  250.698757  5.754743e+09  \n",
              "2022-11-20 23:00:00   52.394962  1.204251e+09  \n",
              "\n",
              "[200 rows x 6 columns]"
            ],
            "text/html": [
              "\n",
              "  <div id=\"df-ec9730a3-4ffc-41af-92b7-44e22b52e8a8\">\n",
              "    <div class=\"colab-df-container\">\n",
              "      <div>\n",
              "<style scoped>\n",
              "    .dataframe tbody tr th:only-of-type {\n",
              "        vertical-align: middle;\n",
              "    }\n",
              "\n",
              "    .dataframe tbody tr th {\n",
              "        vertical-align: top;\n",
              "    }\n",
              "\n",
              "    .dataframe thead th {\n",
              "        text-align: right;\n",
              "    }\n",
              "</style>\n",
              "<table border=\"1\" class=\"dataframe\">\n",
              "  <thead>\n",
              "    <tr style=\"text-align: right;\">\n",
              "      <th></th>\n",
              "      <th>open</th>\n",
              "      <th>high</th>\n",
              "      <th>low</th>\n",
              "      <th>close</th>\n",
              "      <th>volume</th>\n",
              "      <th>value</th>\n",
              "    </tr>\n",
              "  </thead>\n",
              "  <tbody>\n",
              "    <tr>\n",
              "      <th>2022-11-12 16:00:00</th>\n",
              "      <td>23301000.0</td>\n",
              "      <td>23354000.0</td>\n",
              "      <td>23213000.0</td>\n",
              "      <td>23286000.0</td>\n",
              "      <td>316.779965</td>\n",
              "      <td>7.382125e+09</td>\n",
              "    </tr>\n",
              "    <tr>\n",
              "      <th>2022-11-12 17:00:00</th>\n",
              "      <td>23296000.0</td>\n",
              "      <td>23453000.0</td>\n",
              "      <td>23247000.0</td>\n",
              "      <td>23387000.0</td>\n",
              "      <td>261.592983</td>\n",
              "      <td>6.110531e+09</td>\n",
              "    </tr>\n",
              "    <tr>\n",
              "      <th>2022-11-12 18:00:00</th>\n",
              "      <td>23387000.0</td>\n",
              "      <td>23491000.0</td>\n",
              "      <td>23340000.0</td>\n",
              "      <td>23423000.0</td>\n",
              "      <td>184.108123</td>\n",
              "      <td>4.311847e+09</td>\n",
              "    </tr>\n",
              "    <tr>\n",
              "      <th>2022-11-12 19:00:00</th>\n",
              "      <td>23423000.0</td>\n",
              "      <td>23530000.0</td>\n",
              "      <td>23354000.0</td>\n",
              "      <td>23384000.0</td>\n",
              "      <td>328.674653</td>\n",
              "      <td>7.702511e+09</td>\n",
              "    </tr>\n",
              "    <tr>\n",
              "      <th>2022-11-12 20:00:00</th>\n",
              "      <td>23383000.0</td>\n",
              "      <td>23414000.0</td>\n",
              "      <td>23326000.0</td>\n",
              "      <td>23389000.0</td>\n",
              "      <td>151.540851</td>\n",
              "      <td>3.541915e+09</td>\n",
              "    </tr>\n",
              "    <tr>\n",
              "      <th>...</th>\n",
              "      <td>...</td>\n",
              "      <td>...</td>\n",
              "      <td>...</td>\n",
              "      <td>...</td>\n",
              "      <td>...</td>\n",
              "      <td>...</td>\n",
              "    </tr>\n",
              "    <tr>\n",
              "      <th>2022-11-20 19:00:00</th>\n",
              "      <td>22959000.0</td>\n",
              "      <td>23049000.0</td>\n",
              "      <td>22942000.0</td>\n",
              "      <td>23040000.0</td>\n",
              "      <td>233.740173</td>\n",
              "      <td>5.377531e+09</td>\n",
              "    </tr>\n",
              "    <tr>\n",
              "      <th>2022-11-20 20:00:00</th>\n",
              "      <td>23022000.0</td>\n",
              "      <td>23064000.0</td>\n",
              "      <td>22875000.0</td>\n",
              "      <td>22962000.0</td>\n",
              "      <td>420.697519</td>\n",
              "      <td>9.667227e+09</td>\n",
              "    </tr>\n",
              "    <tr>\n",
              "      <th>2022-11-20 21:00:00</th>\n",
              "      <td>22965000.0</td>\n",
              "      <td>23002000.0</td>\n",
              "      <td>22885000.0</td>\n",
              "      <td>22896000.0</td>\n",
              "      <td>265.104497</td>\n",
              "      <td>6.079106e+09</td>\n",
              "    </tr>\n",
              "    <tr>\n",
              "      <th>2022-11-20 22:00:00</th>\n",
              "      <td>22890000.0</td>\n",
              "      <td>23012000.0</td>\n",
              "      <td>22890000.0</td>\n",
              "      <td>23010000.0</td>\n",
              "      <td>250.698757</td>\n",
              "      <td>5.754743e+09</td>\n",
              "    </tr>\n",
              "    <tr>\n",
              "      <th>2022-11-20 23:00:00</th>\n",
              "      <td>22988000.0</td>\n",
              "      <td>23010000.0</td>\n",
              "      <td>22955000.0</td>\n",
              "      <td>22980000.0</td>\n",
              "      <td>52.394962</td>\n",
              "      <td>1.204251e+09</td>\n",
              "    </tr>\n",
              "  </tbody>\n",
              "</table>\n",
              "<p>200 rows × 6 columns</p>\n",
              "</div>\n",
              "      <button class=\"colab-df-convert\" onclick=\"convertToInteractive('df-ec9730a3-4ffc-41af-92b7-44e22b52e8a8')\"\n",
              "              title=\"Convert this dataframe to an interactive table.\"\n",
              "              style=\"display:none;\">\n",
              "        \n",
              "  <svg xmlns=\"http://www.w3.org/2000/svg\" height=\"24px\"viewBox=\"0 0 24 24\"\n",
              "       width=\"24px\">\n",
              "    <path d=\"M0 0h24v24H0V0z\" fill=\"none\"/>\n",
              "    <path d=\"M18.56 5.44l.94 2.06.94-2.06 2.06-.94-2.06-.94-.94-2.06-.94 2.06-2.06.94zm-11 1L8.5 8.5l.94-2.06 2.06-.94-2.06-.94L8.5 2.5l-.94 2.06-2.06.94zm10 10l.94 2.06.94-2.06 2.06-.94-2.06-.94-.94-2.06-.94 2.06-2.06.94z\"/><path d=\"M17.41 7.96l-1.37-1.37c-.4-.4-.92-.59-1.43-.59-.52 0-1.04.2-1.43.59L10.3 9.45l-7.72 7.72c-.78.78-.78 2.05 0 2.83L4 21.41c.39.39.9.59 1.41.59.51 0 1.02-.2 1.41-.59l7.78-7.78 2.81-2.81c.8-.78.8-2.07 0-2.86zM5.41 20L4 18.59l7.72-7.72 1.47 1.35L5.41 20z\"/>\n",
              "  </svg>\n",
              "      </button>\n",
              "      \n",
              "  <style>\n",
              "    .colab-df-container {\n",
              "      display:flex;\n",
              "      flex-wrap:wrap;\n",
              "      gap: 12px;\n",
              "    }\n",
              "\n",
              "    .colab-df-convert {\n",
              "      background-color: #E8F0FE;\n",
              "      border: none;\n",
              "      border-radius: 50%;\n",
              "      cursor: pointer;\n",
              "      display: none;\n",
              "      fill: #1967D2;\n",
              "      height: 32px;\n",
              "      padding: 0 0 0 0;\n",
              "      width: 32px;\n",
              "    }\n",
              "\n",
              "    .colab-df-convert:hover {\n",
              "      background-color: #E2EBFA;\n",
              "      box-shadow: 0px 1px 2px rgba(60, 64, 67, 0.3), 0px 1px 3px 1px rgba(60, 64, 67, 0.15);\n",
              "      fill: #174EA6;\n",
              "    }\n",
              "\n",
              "    [theme=dark] .colab-df-convert {\n",
              "      background-color: #3B4455;\n",
              "      fill: #D2E3FC;\n",
              "    }\n",
              "\n",
              "    [theme=dark] .colab-df-convert:hover {\n",
              "      background-color: #434B5C;\n",
              "      box-shadow: 0px 1px 3px 1px rgba(0, 0, 0, 0.15);\n",
              "      filter: drop-shadow(0px 1px 2px rgba(0, 0, 0, 0.3));\n",
              "      fill: #FFFFFF;\n",
              "    }\n",
              "  </style>\n",
              "\n",
              "      <script>\n",
              "        const buttonEl =\n",
              "          document.querySelector('#df-ec9730a3-4ffc-41af-92b7-44e22b52e8a8 button.colab-df-convert');\n",
              "        buttonEl.style.display =\n",
              "          google.colab.kernel.accessAllowed ? 'block' : 'none';\n",
              "\n",
              "        async function convertToInteractive(key) {\n",
              "          const element = document.querySelector('#df-ec9730a3-4ffc-41af-92b7-44e22b52e8a8');\n",
              "          const dataTable =\n",
              "            await google.colab.kernel.invokeFunction('convertToInteractive',\n",
              "                                                     [key], {});\n",
              "          if (!dataTable) return;\n",
              "\n",
              "          const docLinkHtml = 'Like what you see? Visit the ' +\n",
              "            '<a target=\"_blank\" href=https://colab.research.google.com/notebooks/data_table.ipynb>data table notebook</a>'\n",
              "            + ' to learn more about interactive tables.';\n",
              "          element.innerHTML = '';\n",
              "          dataTable['output_type'] = 'display_data';\n",
              "          await google.colab.output.renderOutput(dataTable, element);\n",
              "          const docLink = document.createElement('div');\n",
              "          docLink.innerHTML = docLinkHtml;\n",
              "          element.appendChild(docLink);\n",
              "        }\n",
              "      </script>\n",
              "    </div>\n",
              "  </div>\n",
              "  "
            ]
          },
          "metadata": {},
          "execution_count": 6
        }
      ]
    },
    {
      "cell_type": "code",
      "source": [
        "#시간(ds)와 종가(y)값만 남김\n",
        "df = df.reset_index()\n",
        "df['ds'] = df['index']\n",
        "df['y'] = df['close']\n",
        "data = df[['ds','y']]\n",
        "data"
      ],
      "metadata": {
        "colab": {
          "base_uri": "https://localhost:8080/",
          "height": 424
        },
        "id": "8qHLAJ9lBTOw",
        "outputId": "7fdbf1ab-0693-4e73-d7e2-4c85e54540a3"
      },
      "execution_count": 7,
      "outputs": [
        {
          "output_type": "execute_result",
          "data": {
            "text/plain": [
              "                     ds           y\n",
              "0   2022-11-12 16:00:00  23286000.0\n",
              "1   2022-11-12 17:00:00  23387000.0\n",
              "2   2022-11-12 18:00:00  23423000.0\n",
              "3   2022-11-12 19:00:00  23384000.0\n",
              "4   2022-11-12 20:00:00  23389000.0\n",
              "..                  ...         ...\n",
              "195 2022-11-20 19:00:00  23040000.0\n",
              "196 2022-11-20 20:00:00  22962000.0\n",
              "197 2022-11-20 21:00:00  22896000.0\n",
              "198 2022-11-20 22:00:00  23010000.0\n",
              "199 2022-11-20 23:00:00  22980000.0\n",
              "\n",
              "[200 rows x 2 columns]"
            ],
            "text/html": [
              "\n",
              "  <div id=\"df-2e13194d-0c28-4269-b248-6c7ac6b4f0c4\">\n",
              "    <div class=\"colab-df-container\">\n",
              "      <div>\n",
              "<style scoped>\n",
              "    .dataframe tbody tr th:only-of-type {\n",
              "        vertical-align: middle;\n",
              "    }\n",
              "\n",
              "    .dataframe tbody tr th {\n",
              "        vertical-align: top;\n",
              "    }\n",
              "\n",
              "    .dataframe thead th {\n",
              "        text-align: right;\n",
              "    }\n",
              "</style>\n",
              "<table border=\"1\" class=\"dataframe\">\n",
              "  <thead>\n",
              "    <tr style=\"text-align: right;\">\n",
              "      <th></th>\n",
              "      <th>ds</th>\n",
              "      <th>y</th>\n",
              "    </tr>\n",
              "  </thead>\n",
              "  <tbody>\n",
              "    <tr>\n",
              "      <th>0</th>\n",
              "      <td>2022-11-12 16:00:00</td>\n",
              "      <td>23286000.0</td>\n",
              "    </tr>\n",
              "    <tr>\n",
              "      <th>1</th>\n",
              "      <td>2022-11-12 17:00:00</td>\n",
              "      <td>23387000.0</td>\n",
              "    </tr>\n",
              "    <tr>\n",
              "      <th>2</th>\n",
              "      <td>2022-11-12 18:00:00</td>\n",
              "      <td>23423000.0</td>\n",
              "    </tr>\n",
              "    <tr>\n",
              "      <th>3</th>\n",
              "      <td>2022-11-12 19:00:00</td>\n",
              "      <td>23384000.0</td>\n",
              "    </tr>\n",
              "    <tr>\n",
              "      <th>4</th>\n",
              "      <td>2022-11-12 20:00:00</td>\n",
              "      <td>23389000.0</td>\n",
              "    </tr>\n",
              "    <tr>\n",
              "      <th>...</th>\n",
              "      <td>...</td>\n",
              "      <td>...</td>\n",
              "    </tr>\n",
              "    <tr>\n",
              "      <th>195</th>\n",
              "      <td>2022-11-20 19:00:00</td>\n",
              "      <td>23040000.0</td>\n",
              "    </tr>\n",
              "    <tr>\n",
              "      <th>196</th>\n",
              "      <td>2022-11-20 20:00:00</td>\n",
              "      <td>22962000.0</td>\n",
              "    </tr>\n",
              "    <tr>\n",
              "      <th>197</th>\n",
              "      <td>2022-11-20 21:00:00</td>\n",
              "      <td>22896000.0</td>\n",
              "    </tr>\n",
              "    <tr>\n",
              "      <th>198</th>\n",
              "      <td>2022-11-20 22:00:00</td>\n",
              "      <td>23010000.0</td>\n",
              "    </tr>\n",
              "    <tr>\n",
              "      <th>199</th>\n",
              "      <td>2022-11-20 23:00:00</td>\n",
              "      <td>22980000.0</td>\n",
              "    </tr>\n",
              "  </tbody>\n",
              "</table>\n",
              "<p>200 rows × 2 columns</p>\n",
              "</div>\n",
              "      <button class=\"colab-df-convert\" onclick=\"convertToInteractive('df-2e13194d-0c28-4269-b248-6c7ac6b4f0c4')\"\n",
              "              title=\"Convert this dataframe to an interactive table.\"\n",
              "              style=\"display:none;\">\n",
              "        \n",
              "  <svg xmlns=\"http://www.w3.org/2000/svg\" height=\"24px\"viewBox=\"0 0 24 24\"\n",
              "       width=\"24px\">\n",
              "    <path d=\"M0 0h24v24H0V0z\" fill=\"none\"/>\n",
              "    <path d=\"M18.56 5.44l.94 2.06.94-2.06 2.06-.94-2.06-.94-.94-2.06-.94 2.06-2.06.94zm-11 1L8.5 8.5l.94-2.06 2.06-.94-2.06-.94L8.5 2.5l-.94 2.06-2.06.94zm10 10l.94 2.06.94-2.06 2.06-.94-2.06-.94-.94-2.06-.94 2.06-2.06.94z\"/><path d=\"M17.41 7.96l-1.37-1.37c-.4-.4-.92-.59-1.43-.59-.52 0-1.04.2-1.43.59L10.3 9.45l-7.72 7.72c-.78.78-.78 2.05 0 2.83L4 21.41c.39.39.9.59 1.41.59.51 0 1.02-.2 1.41-.59l7.78-7.78 2.81-2.81c.8-.78.8-2.07 0-2.86zM5.41 20L4 18.59l7.72-7.72 1.47 1.35L5.41 20z\"/>\n",
              "  </svg>\n",
              "      </button>\n",
              "      \n",
              "  <style>\n",
              "    .colab-df-container {\n",
              "      display:flex;\n",
              "      flex-wrap:wrap;\n",
              "      gap: 12px;\n",
              "    }\n",
              "\n",
              "    .colab-df-convert {\n",
              "      background-color: #E8F0FE;\n",
              "      border: none;\n",
              "      border-radius: 50%;\n",
              "      cursor: pointer;\n",
              "      display: none;\n",
              "      fill: #1967D2;\n",
              "      height: 32px;\n",
              "      padding: 0 0 0 0;\n",
              "      width: 32px;\n",
              "    }\n",
              "\n",
              "    .colab-df-convert:hover {\n",
              "      background-color: #E2EBFA;\n",
              "      box-shadow: 0px 1px 2px rgba(60, 64, 67, 0.3), 0px 1px 3px 1px rgba(60, 64, 67, 0.15);\n",
              "      fill: #174EA6;\n",
              "    }\n",
              "\n",
              "    [theme=dark] .colab-df-convert {\n",
              "      background-color: #3B4455;\n",
              "      fill: #D2E3FC;\n",
              "    }\n",
              "\n",
              "    [theme=dark] .colab-df-convert:hover {\n",
              "      background-color: #434B5C;\n",
              "      box-shadow: 0px 1px 3px 1px rgba(0, 0, 0, 0.15);\n",
              "      filter: drop-shadow(0px 1px 2px rgba(0, 0, 0, 0.3));\n",
              "      fill: #FFFFFF;\n",
              "    }\n",
              "  </style>\n",
              "\n",
              "      <script>\n",
              "        const buttonEl =\n",
              "          document.querySelector('#df-2e13194d-0c28-4269-b248-6c7ac6b4f0c4 button.colab-df-convert');\n",
              "        buttonEl.style.display =\n",
              "          google.colab.kernel.accessAllowed ? 'block' : 'none';\n",
              "\n",
              "        async function convertToInteractive(key) {\n",
              "          const element = document.querySelector('#df-2e13194d-0c28-4269-b248-6c7ac6b4f0c4');\n",
              "          const dataTable =\n",
              "            await google.colab.kernel.invokeFunction('convertToInteractive',\n",
              "                                                     [key], {});\n",
              "          if (!dataTable) return;\n",
              "\n",
              "          const docLinkHtml = 'Like what you see? Visit the ' +\n",
              "            '<a target=\"_blank\" href=https://colab.research.google.com/notebooks/data_table.ipynb>data table notebook</a>'\n",
              "            + ' to learn more about interactive tables.';\n",
              "          element.innerHTML = '';\n",
              "          dataTable['output_type'] = 'display_data';\n",
              "          await google.colab.output.renderOutput(dataTable, element);\n",
              "          const docLink = document.createElement('div');\n",
              "          docLink.innerHTML = docLinkHtml;\n",
              "          element.appendChild(docLink);\n",
              "        }\n",
              "      </script>\n",
              "    </div>\n",
              "  </div>\n",
              "  "
            ]
          },
          "metadata": {},
          "execution_count": 7
        }
      ]
    },
    {
      "cell_type": "code",
      "source": [
        "pip install fbprophet\n"
      ],
      "metadata": {
        "colab": {
          "base_uri": "https://localhost:8080/"
        },
        "id": "h03v8A5BBTKy",
        "outputId": "8a7d50fc-f2e4-4961-ac15-779f0136994c"
      },
      "execution_count": 8,
      "outputs": [
        {
          "output_type": "stream",
          "name": "stdout",
          "text": [
            "Looking in indexes: https://pypi.org/simple, https://us-python.pkg.dev/colab-wheels/public/simple/\n",
            "Collecting fbprophet\n",
            "  Downloading fbprophet-0.7.1.tar.gz (64 kB)\n",
            "\u001b[K     |████████████████████████████████| 64 kB 2.0 MB/s \n",
            "\u001b[31mERROR: Command errored out with exit status 1: python setup.py egg_info Check the logs for full command output.\u001b[0m\n",
            "\u001b[?25h"
          ]
        }
      ]
    },
    {
      "cell_type": "code",
      "source": [
        "#prophet 불러옴 # 파이썬 3.9~ 부터는 지원이 안되어서 3.8~로 불러와야 함\n",
        "from prophet import Prophet\n"
      ],
      "metadata": {
        "id": "HvPIZYUxBTFb"
      },
      "execution_count": 9,
      "outputs": []
    },
    {
      "cell_type": "code",
      "source": [
        "#학습\n",
        "model = Prophet()\n",
        "model.fit(data)"
      ],
      "metadata": {
        "colab": {
          "base_uri": "https://localhost:8080/"
        },
        "id": "S2J9EiFbBS-r",
        "outputId": "4c073638-6acf-4fc1-aa33-1b6e4351e30c"
      },
      "execution_count": 10,
      "outputs": [
        {
          "output_type": "stream",
          "name": "stderr",
          "text": [
            "INFO:prophet:Disabling yearly seasonality. Run prophet with yearly_seasonality=True to override this.\n",
            "INFO:prophet:Disabling weekly seasonality. Run prophet with weekly_seasonality=True to override this.\n",
            "DEBUG:cmdstanpy:input tempfile: /tmp/tmpdx7vizgm/d94dntpb.json\n",
            "DEBUG:cmdstanpy:input tempfile: /tmp/tmpdx7vizgm/gsnl9v5t.json\n",
            "DEBUG:cmdstanpy:idx 0\n",
            "DEBUG:cmdstanpy:running CmdStan, num_threads: None\n",
            "DEBUG:cmdstanpy:CmdStan args: ['/usr/local/lib/python3.7/dist-packages/prophet/stan_model/prophet_model.bin', 'random', 'seed=3021', 'data', 'file=/tmp/tmpdx7vizgm/d94dntpb.json', 'init=/tmp/tmpdx7vizgm/gsnl9v5t.json', 'output', 'file=/tmp/tmpdx7vizgm/prophet_modelv4yvdgd4/prophet_model-20221120141207.csv', 'method=optimize', 'algorithm=lbfgs', 'iter=10000']\n",
            "14:12:07 - cmdstanpy - INFO - Chain [1] start processing\n",
            "INFO:cmdstanpy:Chain [1] start processing\n",
            "14:12:07 - cmdstanpy - INFO - Chain [1] done processing\n",
            "INFO:cmdstanpy:Chain [1] done processing\n"
          ]
        },
        {
          "output_type": "execute_result",
          "data": {
            "text/plain": [
              "<prophet.forecaster.Prophet at 0x7fd46653d590>"
            ]
          },
          "metadata": {},
          "execution_count": 10
        }
      ]
    },
    {
      "cell_type": "code",
      "source": [
        "#24시간 미래 예측\n",
        "future = model.make_future_dataframe(periods=24, freq='H')\n",
        "forecast = model.predict(future)"
      ],
      "metadata": {
        "id": "PtkarZmRBS2k"
      },
      "execution_count": 12,
      "outputs": []
    },
    {
      "cell_type": "code",
      "source": [
        "#그래프1\n",
        "fig1 = model.plot(forecast)"
      ],
      "metadata": {
        "colab": {
          "base_uri": "https://localhost:8080/",
          "height": 441
        },
        "id": "T5313R3FBShs",
        "outputId": "77f3d64b-e5c9-4742-f1e5-7136536b7757"
      },
      "execution_count": 13,
      "outputs": [
        {
          "output_type": "display_data",
          "data": {
            "text/plain": [
              "<Figure size 720x432 with 1 Axes>"
            ],
            "image/png": "[encoded data removed]"
          },
          "metadata": {}
        }
      ]
    },
    {
      "cell_type": "code",
      "source": [
        "#그래프2\n",
        "fig2 = model.plot_components(forecast)"
      ],
      "metadata": {
        "colab": {
          "base_uri": "https://localhost:8080/",
          "height": 441
        },
        "id": "Bl77jtnIBz0L",
        "outputId": "426c818c-7c68-40e2-a89e-54ce0919f775"
      },
      "execution_count": 14,
      "outputs": [
        {
          "output_type": "display_data",
          "data": {
            "text/plain": [
              "<Figure size 648x432 with 2 Axes>"
            ],
            "image/png": "[encoded data removed]"
          },
          "metadata": {}
        }
      ]
    },
    {
      "cell_type": "code",
      "source": [
        "#매수 시점의 가격\n",
        "nowValue = pyupbit.get_current_price(\"KRW-BTC\")\n",
        "nowValue"
      ],
      "metadata": {
        "colab": {
          "base_uri": "https://localhost:8080/"
        },
        "id": "o1yzXkrqBzr3",
        "outputId": "24e1bf09-a545-4ffc-d1e0-8ce91df372fd"
      },
      "execution_count": 15,
      "outputs": [
        {
          "output_type": "execute_result",
          "data": {
            "text/plain": [
              "22980000"
            ]
          },
          "metadata": {},
          "execution_count": 15
        }
      ]
    },
    {
      "cell_type": "code",
      "source": [
        "#종가의 가격을 구함\n",
        "\n",
        "#현재 시간이 자정 이전\n",
        "closeDf = forecast[forecast['ds'] == forecast.iloc[-1]['ds'].replace(hour=9)]\n",
        "\n",
        "#현재 시간이 자정 이후\n",
        "if len(closeDf) == 0:\n",
        "  closeDf = forecast[forecast['ds'] == data.iloc[-1]['ds'].replace(hour=9)]\n",
        "\n",
        "#어쨋든 당일 종가\n",
        "closeValue = closeDf['yhat'].values[0]\n",
        "closeValue"
      ],
      "metadata": {
        "colab": {
          "base_uri": "https://localhost:8080/"
        },
        "id": "kTGR8A5SBzRz",
        "outputId": "8c1b297a-d2b0-40f9-943c-76f0b34b2f2d"
      },
      "execution_count": 16,
      "outputs": [
        {
          "output_type": "execute_result",
          "data": {
            "text/plain": [
              "23060984.412142098"
            ]
          },
          "metadata": {},
          "execution_count": 16
        }
      ]
    },
    {
      "cell_type": "code",
      "source": [
        "#구체적인 가격\n",
        "print(\"현재 시점 가격: \", nowValue)\n",
        "print(\"종가의 가격: \", closeValue)"
      ],
      "metadata": {
        "colab": {
          "base_uri": "https://localhost:8080/"
        },
        "id": "qri9TvcYB5uK",
        "outputId": "ddd4b69c-1ff5-46fc-b547-176563f56cdb"
      },
      "execution_count": 17,
      "outputs": [
        {
          "output_type": "stream",
          "name": "stdout",
          "text": [
            "현재 시점 가격:  22980000\n",
            "종가의 가격:  23060984.412142098\n"
          ]
        }
      ]
    },
    {
      "cell_type": "code",
      "source": [
        "forecast"
      ],
      "metadata": {
        "id": "is3tdrb-B9NK"
      },
      "execution_count": null,
      "outputs": []
    },
    {
      "cell_type": "code",
      "source": [
        "#_________________________________________________ ETH_____________________________________"
      ],
      "metadata": {
        "id": "GOjrqTiEAze3"
      },
      "execution_count": null,
      "outputs": []
    },
    {
      "cell_type": "code",
      "source": [
        "#BTC 최근 200시간의 데이터를 60분 단위로 불러옴\n",
        "df2 = pyupbit.get_ohlcv(\"KRW-ETH\", interval=\"minute60\")\n",
        "df2"
      ],
      "metadata": {
        "colab": {
          "base_uri": "https://localhost:8080/",
          "height": 424
        },
        "id": "G1JfPw31_8yI",
        "outputId": "bbbed7f8-2bc6-42b1-feb8-e0ac172468be"
      },
      "execution_count": 18,
      "outputs": [
        {
          "output_type": "execute_result",
          "data": {
            "text/plain": [
              "                          open       high        low      close       volume  \\\n",
              "2022-11-12 16:00:00  1755000.0  1767000.0  1752500.0  1756000.0  3463.143577   \n",
              "2022-11-12 17:00:00  1756000.0  1766000.0  1742500.0  1751000.0  4691.510117   \n",
              "2022-11-12 18:00:00  1752500.0  1763000.0  1750000.0  1755500.0  3795.514975   \n",
              "2022-11-12 19:00:00  1756500.0  1766500.0  1749000.0  1752000.0  3845.364711   \n",
              "2022-11-12 20:00:00  1752000.0  1755500.0  1744000.0  1752500.0  3266.449993   \n",
              "...                        ...        ...        ...        ...          ...   \n",
              "2022-11-20 19:00:00  1667500.0  1670000.0  1651500.0  1658000.0  2930.987154   \n",
              "2022-11-20 20:00:00  1658500.0  1659000.0  1617500.0  1625000.0  7482.508219   \n",
              "2022-11-20 21:00:00  1625000.0  1627000.0  1610000.0  1619000.0  5644.291635   \n",
              "2022-11-20 22:00:00  1619000.0  1635500.0  1617500.0  1635500.0  3174.072490   \n",
              "2022-11-20 23:00:00  1633500.0  1638000.0  1630500.0  1637000.0   432.729398   \n",
              "\n",
              "                            value  \n",
              "2022-11-12 16:00:00  6.089535e+09  \n",
              "2022-11-12 17:00:00  8.226345e+09  \n",
              "2022-11-12 18:00:00  6.670793e+09  \n",
              "2022-11-12 19:00:00  6.753586e+09  \n",
              "2022-11-12 20:00:00  5.715063e+09  \n",
              "...                           ...  \n",
              "2022-11-20 19:00:00  4.873998e+09  \n",
              "2022-11-20 20:00:00  1.223008e+10  \n",
              "2022-11-20 21:00:00  9.141314e+09  \n",
              "2022-11-20 22:00:00  5.164714e+09  \n",
              "2022-11-20 23:00:00  7.066428e+08  \n",
              "\n",
              "[200 rows x 6 columns]"
            ],
            "text/html": [
              "\n",
              "  <div id=\"df-34e25111-beff-42ed-9d44-b962c084e9e8\">\n",
              "    <div class=\"colab-df-container\">\n",
              "      <div>\n",
              "<style scoped>\n",
              "    .dataframe tbody tr th:only-of-type {\n",
              "        vertical-align: middle;\n",
              "    }\n",
              "\n",
              "    .dataframe tbody tr th {\n",
              "        vertical-align: top;\n",
              "    }\n",
              "\n",
              "    .dataframe thead th {\n",
              "        text-align: right;\n",
              "    }\n",
              "</style>\n",
              "<table border=\"1\" class=\"dataframe\">\n",
              "  <thead>\n",
              "    <tr style=\"text-align: right;\">\n",
              "      <th></th>\n",
              "      <th>open</th>\n",
              "      <th>high</th>\n",
              "      <th>low</th>\n",
              "      <th>close</th>\n",
              "      <th>volume</th>\n",
              "      <th>value</th>\n",
              "    </tr>\n",
              "  </thead>\n",
              "  <tbody>\n",
              "    <tr>\n",
              "      <th>2022-11-12 16:00:00</th>\n",
              "      <td>1755000.0</td>\n",
              "      <td>1767000.0</td>\n",
              "      <td>1752500.0</td>\n",
              "      <td>1756000.0</td>\n",
              "      <td>3463.143577</td>\n",
              "      <td>6.089535e+09</td>\n",
              "    </tr>\n",
              "    <tr>\n",
              "      <th>2022-11-12 17:00:00</th>\n",
              "      <td>1756000.0</td>\n",
              "      <td>1766000.0</td>\n",
              "      <td>1742500.0</td>\n",
              "      <td>1751000.0</td>\n",
              "      <td>4691.510117</td>\n",
              "      <td>8.226345e+09</td>\n",
              "    </tr>\n",
              "    <tr>\n",
              "      <th>2022-11-12 18:00:00</th>\n",
              "      <td>1752500.0</td>\n",
              "      <td>1763000.0</td>\n",
              "      <td>1750000.0</td>\n",
              "      <td>1755500.0</td>\n",
              "      <td>3795.514975</td>\n",
              "      <td>6.670793e+09</td>\n",
              "    </tr>\n",
              "    <tr>\n",
              "      <th>2022-11-12 19:00:00</th>\n",
              "      <td>1756500.0</td>\n",
              "      <td>1766500.0</td>\n",
              "      <td>1749000.0</td>\n",
              "      <td>1752000.0</td>\n",
              "      <td>3845.364711</td>\n",
              "      <td>6.753586e+09</td>\n",
              "    </tr>\n",
              "    <tr>\n",
              "      <th>2022-11-12 20:00:00</th>\n",
              "      <td>1752000.0</td>\n",
              "      <td>1755500.0</td>\n",
              "      <td>1744000.0</td>\n",
              "      <td>1752500.0</td>\n",
              "      <td>3266.449993</td>\n",
              "      <td>5.715063e+09</td>\n",
              "    </tr>\n",
              "    <tr>\n",
              "      <th>...</th>\n",
              "      <td>...</td>\n",
              "      <td>...</td>\n",
              "      <td>...</td>\n",
              "      <td>...</td>\n",
              "      <td>...</td>\n",
              "      <td>...</td>\n",
              "    </tr>\n",
              "    <tr>\n",
              "      <th>2022-11-20 19:00:00</th>\n",
              "      <td>1667500.0</td>\n",
              "      <td>1670000.0</td>\n",
              "      <td>1651500.0</td>\n",
              "      <td>1658000.0</td>\n",
              "      <td>2930.987154</td>\n",
              "      <td>4.873998e+09</td>\n",
              "    </tr>\n",
              "    <tr>\n",
              "      <th>2022-11-20 20:00:00</th>\n",
              "      <td>1658500.0</td>\n",
              "      <td>1659000.0</td>\n",
              "      <td>1617500.0</td>\n",
              "      <td>1625000.0</td>\n",
              "      <td>7482.508219</td>\n",
              "      <td>1.223008e+10</td>\n",
              "    </tr>\n",
              "    <tr>\n",
              "      <th>2022-11-20 21:00:00</th>\n",
              "      <td>1625000.0</td>\n",
              "      <td>1627000.0</td>\n",
              "      <td>1610000.0</td>\n",
              "      <td>1619000.0</td>\n",
              "      <td>5644.291635</td>\n",
              "      <td>9.141314e+09</td>\n",
              "    </tr>\n",
              "    <tr>\n",
              "      <th>2022-11-20 22:00:00</th>\n",
              "      <td>1619000.0</td>\n",
              "      <td>1635500.0</td>\n",
              "      <td>1617500.0</td>\n",
              "      <td>1635500.0</td>\n",
              "      <td>3174.072490</td>\n",
              "      <td>5.164714e+09</td>\n",
              "    </tr>\n",
              "    <tr>\n",
              "      <th>2022-11-20 23:00:00</th>\n",
              "      <td>1633500.0</td>\n",
              "      <td>1638000.0</td>\n",
              "      <td>1630500.0</td>\n",
              "      <td>1637000.0</td>\n",
              "      <td>432.729398</td>\n",
              "      <td>7.066428e+08</td>\n",
              "    </tr>\n",
              "  </tbody>\n",
              "</table>\n",
              "<p>200 rows × 6 columns</p>\n",
              "</div>\n",
              "      <button class=\"colab-df-convert\" onclick=\"convertToInteractive('df-34e25111-beff-42ed-9d44-b962c084e9e8')\"\n",
              "              title=\"Convert this dataframe to an interactive table.\"\n",
              "              style=\"display:none;\">\n",
              "        \n",
              "  <svg xmlns=\"http://www.w3.org/2000/svg\" height=\"24px\"viewBox=\"0 0 24 24\"\n",
              "       width=\"24px\">\n",
              "    <path d=\"M0 0h24v24H0V0z\" fill=\"none\"/>\n",
              "    <path d=\"M18.56 5.44l.94 2.06.94-2.06 2.06-.94-2.06-.94-.94-2.06-.94 2.06-2.06.94zm-11 1L8.5 8.5l.94-2.06 2.06-.94-2.06-.94L8.5 2.5l-.94 2.06-2.06.94zm10 10l.94 2.06.94-2.06 2.06-.94-2.06-.94-.94-2.06-.94 2.06-2.06.94z\"/><path d=\"M17.41 7.96l-1.37-1.37c-.4-.4-.92-.59-1.43-.59-.52 0-1.04.2-1.43.59L10.3 9.45l-7.72 7.72c-.78.78-.78 2.05 0 2.83L4 21.41c.39.39.9.59 1.41.59.51 0 1.02-.2 1.41-.59l7.78-7.78 2.81-2.81c.8-.78.8-2.07 0-2.86zM5.41 20L4 18.59l7.72-7.72 1.47 1.35L5.41 20z\"/>\n",
              "  </svg>\n",
              "      </button>\n",
              "      \n",
              "  <style>\n",
              "    .colab-df-container {\n",
              "      display:flex;\n",
              "      flex-wrap:wrap;\n",
              "      gap: 12px;\n",
              "    }\n",
              "\n",
              "    .colab-df-convert {\n",
              "      background-color: #E8F0FE;\n",
              "      border: none;\n",
              "      border-radius: 50%;\n",
              "      cursor: pointer;\n",
              "      display: none;\n",
              "      fill: #1967D2;\n",
              "      height: 32px;\n",
              "      padding: 0 0 0 0;\n",
              "      width: 32px;\n",
              "    }\n",
              "\n",
              "    .colab-df-convert:hover {\n",
              "      background-color: #E2EBFA;\n",
              "      box-shadow: 0px 1px 2px rgba(60, 64, 67, 0.3), 0px 1px 3px 1px rgba(60, 64, 67, 0.15);\n",
              "      fill: #174EA6;\n",
              "    }\n",
              "\n",
              "    [theme=dark] .colab-df-convert {\n",
              "      background-color: #3B4455;\n",
              "      fill: #D2E3FC;\n",
              "    }\n",
              "\n",
              "    [theme=dark] .colab-df-convert:hover {\n",
              "      background-color: #434B5C;\n",
              "      box-shadow: 0px 1px 3px 1px rgba(0, 0, 0, 0.15);\n",
              "      filter: drop-shadow(0px 1px 2px rgba(0, 0, 0, 0.3));\n",
              "      fill: #FFFFFF;\n",
              "    }\n",
              "  </style>\n",
              "\n",
              "      <script>\n",
              "        const buttonEl =\n",
              "          document.querySelector('#df-34e25111-beff-42ed-9d44-b962c084e9e8 button.colab-df-convert');\n",
              "        buttonEl.style.display =\n",
              "          google.colab.kernel.accessAllowed ? 'block' : 'none';\n",
              "\n",
              "        async function convertToInteractive(key) {\n",
              "          const element = document.querySelector('#df-34e25111-beff-42ed-9d44-b962c084e9e8');\n",
              "          const dataTable =\n",
              "            await google.colab.kernel.invokeFunction('convertToInteractive',\n",
              "                                                     [key], {});\n",
              "          if (!dataTable) return;\n",
              "\n",
              "          const docLinkHtml = 'Like what you see? Visit the ' +\n",
              "            '<a target=\"_blank\" href=https://colab.research.google.com/notebooks/data_table.ipynb>data table notebook</a>'\n",
              "            + ' to learn more about interactive tables.';\n",
              "          element.innerHTML = '';\n",
              "          dataTable['output_type'] = 'display_data';\n",
              "          await google.colab.output.renderOutput(dataTable, element);\n",
              "          const docLink = document.createElement('div');\n",
              "          docLink.innerHTML = docLinkHtml;\n",
              "          element.appendChild(docLink);\n",
              "        }\n",
              "      </script>\n",
              "    </div>\n",
              "  </div>\n",
              "  "
            ]
          },
          "metadata": {},
          "execution_count": 18
        }
      ]
    },
    {
      "cell_type": "code",
      "source": [
        "#시간(ds)와 종가(y)값만 남김\n",
        "df2 = df2.reset_index()\n",
        "df2['ds'] = df2['index']\n",
        "df2['y'] = df2['close']\n",
        "data2 = df2[['ds','y']]\n",
        "data2"
      ],
      "metadata": {
        "colab": {
          "base_uri": "https://localhost:8080/",
          "height": 424
        },
        "id": "Lq19i_nx_9OF",
        "outputId": "38c4e026-2a7e-43a3-bba7-df41063abf00"
      },
      "execution_count": 19,
      "outputs": [
        {
          "output_type": "execute_result",
          "data": {
            "text/plain": [
              "                     ds          y\n",
              "0   2022-11-12 16:00:00  1756000.0\n",
              "1   2022-11-12 17:00:00  1751000.0\n",
              "2   2022-11-12 18:00:00  1755500.0\n",
              "3   2022-11-12 19:00:00  1752000.0\n",
              "4   2022-11-12 20:00:00  1752500.0\n",
              "..                  ...        ...\n",
              "195 2022-11-20 19:00:00  1658000.0\n",
              "196 2022-11-20 20:00:00  1625000.0\n",
              "197 2022-11-20 21:00:00  1619000.0\n",
              "198 2022-11-20 22:00:00  1635500.0\n",
              "199 2022-11-20 23:00:00  1637000.0\n",
              "\n",
              "[200 rows x 2 columns]"
            ],
            "text/html": [
              "\n",
              "  <div id=\"df-b34b1509-bc86-4908-9d26-8f8c62a43255\">\n",
              "    <div class=\"colab-df-container\">\n",
              "      <div>\n",
              "<style scoped>\n",
              "    .dataframe tbody tr th:only-of-type {\n",
              "        vertical-align: middle;\n",
              "    }\n",
              "\n",
              "    .dataframe tbody tr th {\n",
              "        vertical-align: top;\n",
              "    }\n",
              "\n",
              "    .dataframe thead th {\n",
              "        text-align: right;\n",
              "    }\n",
              "</style>\n",
              "<table border=\"1\" class=\"dataframe\">\n",
              "  <thead>\n",
              "    <tr style=\"text-align: right;\">\n",
              "      <th></th>\n",
              "      <th>ds</th>\n",
              "      <th>y</th>\n",
              "    </tr>\n",
              "  </thead>\n",
              "  <tbody>\n",
              "    <tr>\n",
              "      <th>0</th>\n",
              "      <td>2022-11-12 16:00:00</td>\n",
              "      <td>1756000.0</td>\n",
              "    </tr>\n",
              "    <tr>\n",
              "      <th>1</th>\n",
              "      <td>2022-11-12 17:00:00</td>\n",
              "      <td>1751000.0</td>\n",
              "    </tr>\n",
              "    <tr>\n",
              "      <th>2</th>\n",
              "      <td>2022-11-12 18:00:00</td>\n",
              "      <td>1755500.0</td>\n",
              "    </tr>\n",
              "    <tr>\n",
              "      <th>3</th>\n",
              "      <td>2022-11-12 19:00:00</td>\n",
              "      <td>1752000.0</td>\n",
              "    </tr>\n",
              "    <tr>\n",
              "      <th>4</th>\n",
              "      <td>2022-11-12 20:00:00</td>\n",
              "      <td>1752500.0</td>\n",
              "    </tr>\n",
              "    <tr>\n",
              "      <th>...</th>\n",
              "      <td>...</td>\n",
              "      <td>...</td>\n",
              "    </tr>\n",
              "    <tr>\n",
              "      <th>195</th>\n",
              "      <td>2022-11-20 19:00:00</td>\n",
              "      <td>1658000.0</td>\n",
              "    </tr>\n",
              "    <tr>\n",
              "      <th>196</th>\n",
              "      <td>2022-11-20 20:00:00</td>\n",
              "      <td>1625000.0</td>\n",
              "    </tr>\n",
              "    <tr>\n",
              "      <th>197</th>\n",
              "      <td>2022-11-20 21:00:00</td>\n",
              "      <td>1619000.0</td>\n",
              "    </tr>\n",
              "    <tr>\n",
              "      <th>198</th>\n",
              "      <td>2022-11-20 22:00:00</td>\n",
              "      <td>1635500.0</td>\n",
              "    </tr>\n",
              "    <tr>\n",
              "      <th>199</th>\n",
              "      <td>2022-11-20 23:00:00</td>\n",
              "      <td>1637000.0</td>\n",
              "    </tr>\n",
              "  </tbody>\n",
              "</table>\n",
              "<p>200 rows × 2 columns</p>\n",
              "</div>\n",
              "      <button class=\"colab-df-convert\" onclick=\"convertToInteractive('df-b34b1509-bc86-4908-9d26-8f8c62a43255')\"\n",
              "              title=\"Convert this dataframe to an interactive table.\"\n",
              "              style=\"display:none;\">\n",
              "        \n",
              "  <svg xmlns=\"http://www.w3.org/2000/svg\" height=\"24px\"viewBox=\"0 0 24 24\"\n",
              "       width=\"24px\">\n",
              "    <path d=\"M0 0h24v24H0V0z\" fill=\"none\"/>\n",
              "    <path d=\"M18.56 5.44l.94 2.06.94-2.06 2.06-.94-2.06-.94-.94-2.06-.94 2.06-2.06.94zm-11 1L8.5 8.5l.94-2.06 2.06-.94-2.06-.94L8.5 2.5l-.94 2.06-2.06.94zm10 10l.94 2.06.94-2.06 2.06-.94-2.06-.94-.94-2.06-.94 2.06-2.06.94z\"/><path d=\"M17.41 7.96l-1.37-1.37c-.4-.4-.92-.59-1.43-.59-.52 0-1.04.2-1.43.59L10.3 9.45l-7.72 7.72c-.78.78-.78 2.05 0 2.83L4 21.41c.39.39.9.59 1.41.59.51 0 1.02-.2 1.41-.59l7.78-7.78 2.81-2.81c.8-.78.8-2.07 0-2.86zM5.41 20L4 18.59l7.72-7.72 1.47 1.35L5.41 20z\"/>\n",
              "  </svg>\n",
              "      </button>\n",
              "      \n",
              "  <style>\n",
              "    .colab-df-container {\n",
              "      display:flex;\n",
              "      flex-wrap:wrap;\n",
              "      gap: 12px;\n",
              "    }\n",
              "\n",
              "    .colab-df-convert {\n",
              "      background-color: #E8F0FE;\n",
              "      border: none;\n",
              "      border-radius: 50%;\n",
              "      cursor: pointer;\n",
              "      display: none;\n",
              "      fill: #1967D2;\n",
              "      height: 32px;\n",
              "      padding: 0 0 0 0;\n",
              "      width: 32px;\n",
              "    }\n",
              "\n",
              "    .colab-df-convert:hover {\n",
              "      background-color: #E2EBFA;\n",
              "      box-shadow: 0px 1px 2px rgba(60, 64, 67, 0.3), 0px 1px 3px 1px rgba(60, 64, 67, 0.15);\n",
              "      fill: #174EA6;\n",
              "    }\n",
              "\n",
              "    [theme=dark] .colab-df-convert {\n",
              "      background-color: #3B4455;\n",
              "      fill: #D2E3FC;\n",
              "    }\n",
              "\n",
              "    [theme=dark] .colab-df-convert:hover {\n",
              "      background-color: #434B5C;\n",
              "      box-shadow: 0px 1px 3px 1px rgba(0, 0, 0, 0.15);\n",
              "      filter: drop-shadow(0px 1px 2px rgba(0, 0, 0, 0.3));\n",
              "      fill: #FFFFFF;\n",
              "    }\n",
              "  </style>\n",
              "\n",
              "      <script>\n",
              "        const buttonEl =\n",
              "          document.querySelector('#df-b34b1509-bc86-4908-9d26-8f8c62a43255 button.colab-df-convert');\n",
              "        buttonEl.style.display =\n",
              "          google.colab.kernel.accessAllowed ? 'block' : 'none';\n",
              "\n",
              "        async function convertToInteractive(key) {\n",
              "          const element = document.querySelector('#df-b34b1509-bc86-4908-9d26-8f8c62a43255');\n",
              "          const dataTable =\n",
              "            await google.colab.kernel.invokeFunction('convertToInteractive',\n",
              "                                                     [key], {});\n",
              "          if (!dataTable) return;\n",
              "\n",
              "          const docLinkHtml = 'Like what you see? Visit the ' +\n",
              "            '<a target=\"_blank\" href=https://colab.research.google.com/notebooks/data_table.ipynb>data table notebook</a>'\n",
              "            + ' to learn more about interactive tables.';\n",
              "          element.innerHTML = '';\n",
              "          dataTable['output_type'] = 'display_data';\n",
              "          await google.colab.output.renderOutput(dataTable, element);\n",
              "          const docLink = document.createElement('div');\n",
              "          docLink.innerHTML = docLinkHtml;\n",
              "          element.appendChild(docLink);\n",
              "        }\n",
              "      </script>\n",
              "    </div>\n",
              "  </div>\n",
              "  "
            ]
          },
          "metadata": {},
          "execution_count": 19
        }
      ]
    },
    {
      "cell_type": "code",
      "source": [
        "pip install fbprophet"
      ],
      "metadata": {
        "colab": {
          "base_uri": "https://localhost:8080/"
        },
        "id": "88WQ-kUO_9ev",
        "outputId": "3c5b323f-3b3a-4f5a-c1b9-1fa794877537"
      },
      "execution_count": null,
      "outputs": [
        {
          "output_type": "stream",
          "name": "stdout",
          "text": [
            "Looking in indexes: https://pypi.org/simple, https://us-python.pkg.dev/colab-wheels/public/simple/\n",
            "Collecting fbprophet\n",
            "  Using cached fbprophet-0.7.1.tar.gz (64 kB)\n",
            "\u001b[31mERROR: Command errored out with exit status 1: python setup.py egg_info Check the logs for full command output.\u001b[0m\n"
          ]
        }
      ]
    },
    {
      "cell_type": "code",
      "source": [
        "#prophet 불러옴 # 파이썬 3.9~ 부터는 지원이 안되어서 3.8~로 불러와야 함\n",
        "from prophet import Prophet"
      ],
      "metadata": {
        "id": "tp1TsQ68_9vl"
      },
      "execution_count": null,
      "outputs": []
    },
    {
      "cell_type": "code",
      "source": [
        "#학습\n",
        "model2 = Prophet()\n",
        "model2.fit(data2)"
      ],
      "metadata": {
        "colab": {
          "base_uri": "https://localhost:8080/"
        },
        "id": "lQuf1aJa_9_G",
        "outputId": "82603248-50aa-4891-9bef-9cba105e3afd"
      },
      "execution_count": 20,
      "outputs": [
        {
          "output_type": "stream",
          "name": "stderr",
          "text": [
            "INFO:prophet:Disabling yearly seasonality. Run prophet with yearly_seasonality=True to override this.\n",
            "INFO:prophet:Disabling weekly seasonality. Run prophet with weekly_seasonality=True to override this.\n",
            "DEBUG:cmdstanpy:input tempfile: /tmp/tmpdx7vizgm/u7oc3qws.json\n",
            "DEBUG:cmdstanpy:input tempfile: /tmp/tmpdx7vizgm/jkk5qwyd.json\n",
            "DEBUG:cmdstanpy:idx 0\n",
            "DEBUG:cmdstanpy:running CmdStan, num_threads: None\n",
            "DEBUG:cmdstanpy:CmdStan args: ['/usr/local/lib/python3.7/dist-packages/prophet/stan_model/prophet_model.bin', 'random', 'seed=30168', 'data', 'file=/tmp/tmpdx7vizgm/u7oc3qws.json', 'init=/tmp/tmpdx7vizgm/jkk5qwyd.json', 'output', 'file=/tmp/tmpdx7vizgm/prophet_modelx_1c1qbq/prophet_model-20221120141247.csv', 'method=optimize', 'algorithm=lbfgs', 'iter=10000']\n",
            "14:12:47 - cmdstanpy - INFO - Chain [1] start processing\n",
            "INFO:cmdstanpy:Chain [1] start processing\n",
            "14:12:48 - cmdstanpy - INFO - Chain [1] done processing\n",
            "INFO:cmdstanpy:Chain [1] done processing\n"
          ]
        },
        {
          "output_type": "execute_result",
          "data": {
            "text/plain": [
              "<prophet.forecaster.Prophet at 0x7fd45ec5de10>"
            ]
          },
          "metadata": {},
          "execution_count": 20
        }
      ]
    },
    {
      "cell_type": "code",
      "source": [
        "#24시간 미래 예측\n",
        "future2 = model2.make_future_dataframe(periods=24, freq='H')\n",
        "forecast2 = model2.predict(future2)\n"
      ],
      "metadata": {
        "id": "fMmSm-js_-RC"
      },
      "execution_count": 21,
      "outputs": []
    },
    {
      "cell_type": "code",
      "source": [
        "#그래프1\n",
        "fig3 = model2.plot(forecast2)"
      ],
      "metadata": {
        "colab": {
          "base_uri": "https://localhost:8080/",
          "height": 441
        },
        "id": "ml-4IPCD_-jZ",
        "outputId": "cd7fb03c-12ab-4cad-db8f-f465c1985659"
      },
      "execution_count": 22,
      "outputs": [
        {
          "output_type": "display_data",
          "data": {
            "text/plain": [
              "<Figure size 720x432 with 1 Axes>"
            ],
            "image/png": "[encoded data removed]"
          },
          "metadata": {}
        }
      ]
    },
    {
      "cell_type": "code",
      "source": [
        "#그래프2\n",
        "fig4 = model2.plot_components(forecast2)"
      ],
      "metadata": {
        "colab": {
          "base_uri": "https://localhost:8080/",
          "height": 441
        },
        "id": "FEDeCM_eAmjF",
        "outputId": "b4bdc1af-e12b-4e61-b6f7-39a2180884ee"
      },
      "execution_count": 23,
      "outputs": [
        {
          "output_type": "display_data",
          "data": {
            "text/plain": [
              "<Figure size 648x432 with 2 Axes>"
            ],
            "image/png": "[encoded data removed]"
          },
          "metadata": {}
        }
      ]
    },
    {
      "cell_type": "code",
      "source": [
        "#매수 시점의 가격\n",
        "nowValue2 = pyupbit.get_current_price(\"KRW-ETH\")\n",
        "nowValue2"
      ],
      "metadata": {
        "colab": {
          "base_uri": "https://localhost:8080/"
        },
        "id": "xnjyviTdAmzV",
        "outputId": "64b960b0-e86c-4193-cc37-0ffc3c4d739b"
      },
      "execution_count": 24,
      "outputs": [
        {
          "output_type": "execute_result",
          "data": {
            "text/plain": [
              "1636000"
            ]
          },
          "metadata": {},
          "execution_count": 24
        }
      ]
    },
    {
      "cell_type": "code",
      "source": [
        "#종가의 가격을 구함\n",
        "\n",
        "#현재 시간이 자정 이전\n",
        "closeDf2 = forecast2[forecast2['ds'] == forecast2.iloc[-1]['ds'].replace(hour=9)]\n",
        "\n",
        "#현재 시간이 자정 이후\n",
        "if len(closeDf2) == 0:\n",
        "  closeDf2 = forecast2[forecast2['ds'] == data2.iloc[-1]['ds'].replace(hour=9)]\n",
        "\n",
        "#어쨋든 당일 종가\n",
        "closeValue2 = closeDf2['yhat'].values[0]\n",
        "closeValue2"
      ],
      "metadata": {
        "colab": {
          "base_uri": "https://localhost:8080/"
        },
        "id": "3K0Vk4HGAnC3",
        "outputId": "587e73b1-3cc9-4c25-dd9d-e7650a4b649b"
      },
      "execution_count": 25,
      "outputs": [
        {
          "output_type": "execute_result",
          "data": {
            "text/plain": [
              "1667772.7273779768"
            ]
          },
          "metadata": {},
          "execution_count": 25
        }
      ]
    },
    {
      "cell_type": "code",
      "source": [
        "#구체적인 가격\n",
        "print(\"현재 시점 가격: \", nowValue2)\n",
        "print(\"종가의 가격: \", closeValue2)"
      ],
      "metadata": {
        "colab": {
          "base_uri": "https://localhost:8080/"
        },
        "id": "wlScMbJlAnRY",
        "outputId": "b2b648fe-20a0-45be-bb7c-da3759e6cac0"
      },
      "execution_count": 26,
      "outputs": [
        {
          "output_type": "stream",
          "name": "stdout",
          "text": [
            "현재 시점 가격:  1636000\n",
            "종가의 가격:  1667772.7273779768\n"
          ]
        }
      ]
    },
    {
      "cell_type": "code",
      "source": [
        "forecast2"
      ],
      "metadata": {
        "colab": {
          "base_uri": "https://localhost:8080/",
          "height": 834
        },
        "id": "X6fvGID5Av1d",
        "outputId": "d43ac7a7-fb69-49f2-8732-7e38dd5e990c"
      },
      "execution_count": 27,
      "outputs": [
        {
          "output_type": "execute_result",
          "data": {
            "text/plain": [
              "                     ds         trend    yhat_lower    yhat_upper  \\\n",
              "0   2022-11-12 16:00:00  1.767171e+06  1.752225e+06  1.795263e+06   \n",
              "1   2022-11-12 17:00:00  1.765786e+06  1.748059e+06  1.789935e+06   \n",
              "2   2022-11-12 18:00:00  1.764401e+06  1.743163e+06  1.785379e+06   \n",
              "3   2022-11-12 19:00:00  1.763016e+06  1.740792e+06  1.782865e+06   \n",
              "4   2022-11-12 20:00:00  1.761631e+06  1.740227e+06  1.781070e+06   \n",
              "..                  ...           ...           ...           ...   \n",
              "219 2022-11-21 19:00:00  1.661224e+06  1.635023e+06  1.686801e+06   \n",
              "220 2022-11-21 20:00:00  1.660983e+06  1.633156e+06  1.686073e+06   \n",
              "221 2022-11-21 21:00:00  1.660741e+06  1.633419e+06  1.686901e+06   \n",
              "222 2022-11-21 22:00:00  1.660500e+06  1.630577e+06  1.687222e+06   \n",
              "223 2022-11-21 23:00:00  1.660259e+06  1.629342e+06  1.689647e+06   \n",
              "\n",
              "      trend_lower   trend_upper  additive_terms  additive_terms_lower  \\\n",
              "0    1.767171e+06  1.767171e+06     5780.170675           5780.170675   \n",
              "1    1.765786e+06  1.765786e+06     2913.468877           2913.468877   \n",
              "2    1.764401e+06  1.764401e+06      -70.864914            -70.864914   \n",
              "3    1.763016e+06  1.763016e+06    -1448.756789          -1448.756789   \n",
              "4    1.761631e+06  1.761631e+06    -1226.798057          -1226.798057   \n",
              "..            ...           ...             ...                   ...   \n",
              "219  1.647673e+06  1.673892e+06    -1448.756789          -1448.756789   \n",
              "220  1.646189e+06  1.674669e+06    -1226.798057          -1226.798057   \n",
              "221  1.644936e+06  1.675524e+06     -718.245970           -718.245970   \n",
              "222  1.643664e+06  1.676296e+06     -973.018420           -973.018420   \n",
              "223  1.642300e+06  1.677042e+06    -1766.496347          -1766.496347   \n",
              "\n",
              "     additive_terms_upper        daily  daily_lower  daily_upper  \\\n",
              "0             5780.170675  5780.170675  5780.170675  5780.170675   \n",
              "1             2913.468877  2913.468877  2913.468877  2913.468877   \n",
              "2              -70.864914   -70.864914   -70.864914   -70.864914   \n",
              "3            -1448.756789 -1448.756789 -1448.756789 -1448.756789   \n",
              "4            -1226.798057 -1226.798057 -1226.798057 -1226.798057   \n",
              "..                    ...          ...          ...          ...   \n",
              "219          -1448.756789 -1448.756789 -1448.756789 -1448.756789   \n",
              "220          -1226.798057 -1226.798057 -1226.798057 -1226.798057   \n",
              "221           -718.245970  -718.245970  -718.245970  -718.245970   \n",
              "222           -973.018420  -973.018420  -973.018420  -973.018420   \n",
              "223          -1766.496347 -1766.496347 -1766.496347 -1766.496347   \n",
              "\n",
              "     multiplicative_terms  multiplicative_terms_lower  \\\n",
              "0                     0.0                         0.0   \n",
              "1                     0.0                         0.0   \n",
              "2                     0.0                         0.0   \n",
              "3                     0.0                         0.0   \n",
              "4                     0.0                         0.0   \n",
              "..                    ...                         ...   \n",
              "219                   0.0                         0.0   \n",
              "220                   0.0                         0.0   \n",
              "221                   0.0                         0.0   \n",
              "222                   0.0                         0.0   \n",
              "223                   0.0                         0.0   \n",
              "\n",
              "     multiplicative_terms_upper          yhat  \n",
              "0                           0.0  1.772951e+06  \n",
              "1                           0.0  1.768700e+06  \n",
              "2                           0.0  1.764330e+06  \n",
              "3                           0.0  1.761567e+06  \n",
              "4                           0.0  1.760404e+06  \n",
              "..                          ...           ...  \n",
              "219                         0.0  1.659775e+06  \n",
              "220                         0.0  1.659756e+06  \n",
              "221                         0.0  1.660023e+06  \n",
              "222                         0.0  1.659527e+06  \n",
              "223                         0.0  1.658492e+06  \n",
              "\n",
              "[224 rows x 16 columns]"
            ],
            "text/html": [
              "\n",
              "  <div id=\"df-49e67a60-62c2-4b19-819a-88048c76e98c\">\n",
              "    <div class=\"colab-df-container\">\n",
              "      <div>\n",
              "<style scoped>\n",
              "    .dataframe tbody tr th:only-of-type {\n",
              "        vertical-align: middle;\n",
              "    }\n",
              "\n",
              "    .dataframe tbody tr th {\n",
              "        vertical-align: top;\n",
              "    }\n",
              "\n",
              "    .dataframe thead th {\n",
              "        text-align: right;\n",
              "    }\n",
              "</style>\n",
              "<table border=\"1\" class=\"dataframe\">\n",
              "  <thead>\n",
              "    <tr style=\"text-align: right;\">\n",
              "      <th></th>\n",
              "      <th>ds</th>\n",
              "      <th>trend</th>\n",
              "      <th>yhat_lower</th>\n",
              "      <th>yhat_upper</th>\n",
              "      <th>trend_lower</th>\n",
              "      <th>trend_upper</th>\n",
              "      <th>additive_terms</th>\n",
              "      <th>additive_terms_lower</th>\n",
              "      <th>additive_terms_upper</th>\n",
              "      <th>daily</th>\n",
              "      <th>daily_lower</th>\n",
              "      <th>daily_upper</th>\n",
              "      <th>multiplicative_terms</th>\n",
              "      <th>multiplicative_terms_lower</th>\n",
              "      <th>multiplicative_terms_upper</th>\n",
              "      <th>yhat</th>\n",
              "    </tr>\n",
              "  </thead>\n",
              "  <tbody>\n",
              "    <tr>\n",
              "      <th>0</th>\n",
              "      <td>2022-11-12 16:00:00</td>\n",
              "      <td>1.767171e+06</td>\n",
              "      <td>1.752225e+06</td>\n",
              "      <td>1.795263e+06</td>\n",
              "      <td>1.767171e+06</td>\n",
              "      <td>1.767171e+06</td>\n",
              "      <td>5780.170675</td>\n",
              "      <td>5780.170675</td>\n",
              "      <td>5780.170675</td>\n",
              "      <td>5780.170675</td>\n",
              "      <td>5780.170675</td>\n",
              "      <td>5780.170675</td>\n",
              "      <td>0.0</td>\n",
              "      <td>0.0</td>\n",
              "      <td>0.0</td>\n",
              "      <td>1.772951e+06</td>\n",
              "    </tr>\n",
              "    <tr>\n",
              "      <th>1</th>\n",
              "      <td>2022-11-12 17:00:00</td>\n",
              "      <td>1.765786e+06</td>\n",
              "      <td>1.748059e+06</td>\n",
              "      <td>1.789935e+06</td>\n",
              "      <td>1.765786e+06</td>\n",
              "      <td>1.765786e+06</td>\n",
              "      <td>2913.468877</td>\n",
              "      <td>2913.468877</td>\n",
              "      <td>2913.468877</td>\n",
              "      <td>2913.468877</td>\n",
              "      <td>2913.468877</td>\n",
              "      <td>2913.468877</td>\n",
              "      <td>0.0</td>\n",
              "      <td>0.0</td>\n",
              "      <td>0.0</td>\n",
              "      <td>1.768700e+06</td>\n",
              "    </tr>\n",
              "    <tr>\n",
              "      <th>2</th>\n",
              "      <td>2022-11-12 18:00:00</td>\n",
              "      <td>1.764401e+06</td>\n",
              "      <td>1.743163e+06</td>\n",
              "      <td>1.785379e+06</td>\n",
              "      <td>1.764401e+06</td>\n",
              "      <td>1.764401e+06</td>\n",
              "      <td>-70.864914</td>\n",
              "      <td>-70.864914</td>\n",
              "      <td>-70.864914</td>\n",
              "      <td>-70.864914</td>\n",
              "      <td>-70.864914</td>\n",
              "      <td>-70.864914</td>\n",
              "      <td>0.0</td>\n",
              "      <td>0.0</td>\n",
              "      <td>0.0</td>\n",
              "      <td>1.764330e+06</td>\n",
              "    </tr>\n",
              "    <tr>\n",
              "      <th>3</th>\n",
              "      <td>2022-11-12 19:00:00</td>\n",
              "      <td>1.763016e+06</td>\n",
              "      <td>1.740792e+06</td>\n",
              "      <td>1.782865e+06</td>\n",
              "      <td>1.763016e+06</td>\n",
              "      <td>1.763016e+06</td>\n",
              "      <td>-1448.756789</td>\n",
              "      <td>-1448.756789</td>\n",
              "      <td>-1448.756789</td>\n",
              "      <td>-1448.756789</td>\n",
              "      <td>-1448.756789</td>\n",
              "      <td>-1448.756789</td>\n",
              "      <td>0.0</td>\n",
              "      <td>0.0</td>\n",
              "      <td>0.0</td>\n",
              "      <td>1.761567e+06</td>\n",
              "    </tr>\n",
              "    <tr>\n",
              "      <th>4</th>\n",
              "      <td>2022-11-12 20:00:00</td>\n",
              "      <td>1.761631e+06</td>\n",
              "      <td>1.740227e+06</td>\n",
              "      <td>1.781070e+06</td>\n",
              "      <td>1.761631e+06</td>\n",
              "      <td>1.761631e+06</td>\n",
              "      <td>-1226.798057</td>\n",
              "      <td>-1226.798057</td>\n",
              "      <td>-1226.798057</td>\n",
              "      <td>-1226.798057</td>\n",
              "      <td>-1226.798057</td>\n",
              "      <td>-1226.798057</td>\n",
              "      <td>0.0</td>\n",
              "      <td>0.0</td>\n",
              "      <td>0.0</td>\n",
              "      <td>1.760404e+06</td>\n",
              "    </tr>\n",
              "    <tr>\n",
              "      <th>...</th>\n",
              "      <td>...</td>\n",
              "      <td>...</td>\n",
              "      <td>...</td>\n",
              "      <td>...</td>\n",
              "      <td>...</td>\n",
              "      <td>...</td>\n",
              "      <td>...</td>\n",
              "      <td>...</td>\n",
              "      <td>...</td>\n",
              "      <td>...</td>\n",
              "      <td>...</td>\n",
              "      <td>...</td>\n",
              "      <td>...</td>\n",
              "      <td>...</td>\n",
              "      <td>...</td>\n",
              "      <td>...</td>\n",
              "    </tr>\n",
              "    <tr>\n",
              "      <th>219</th>\n",
              "      <td>2022-11-21 19:00:00</td>\n",
              "      <td>1.661224e+06</td>\n",
              "      <td>1.635023e+06</td>\n",
              "      <td>1.686801e+06</td>\n",
              "      <td>1.647673e+06</td>\n",
              "      <td>1.673892e+06</td>\n",
              "      <td>-1448.756789</td>\n",
              "      <td>-1448.756789</td>\n",
              "      <td>-1448.756789</td>\n",
              "      <td>-1448.756789</td>\n",
              "      <td>-1448.756789</td>\n",
              "      <td>-1448.756789</td>\n",
              "      <td>0.0</td>\n",
              "      <td>0.0</td>\n",
              "      <td>0.0</td>\n",
              "      <td>1.659775e+06</td>\n",
              "    </tr>\n",
              "    <tr>\n",
              "      <th>220</th>\n",
              "      <td>2022-11-21 20:00:00</td>\n",
              "      <td>1.660983e+06</td>\n",
              "      <td>1.633156e+06</td>\n",
              "      <td>1.686073e+06</td>\n",
              "      <td>1.646189e+06</td>\n",
              "      <td>1.674669e+06</td>\n",
              "      <td>-1226.798057</td>\n",
              "      <td>-1226.798057</td>\n",
              "      <td>-1226.798057</td>\n",
              "      <td>-1226.798057</td>\n",
              "      <td>-1226.798057</td>\n",
              "      <td>-1226.798057</td>\n",
              "      <td>0.0</td>\n",
              "      <td>0.0</td>\n",
              "      <td>0.0</td>\n",
              "      <td>1.659756e+06</td>\n",
              "    </tr>\n",
              "    <tr>\n",
              "      <th>221</th>\n",
              "      <td>2022-11-21 21:00:00</td>\n",
              "      <td>1.660741e+06</td>\n",
              "      <td>1.633419e+06</td>\n",
              "      <td>1.686901e+06</td>\n",
              "      <td>1.644936e+06</td>\n",
              "      <td>1.675524e+06</td>\n",
              "      <td>-718.245970</td>\n",
              "      <td>-718.245970</td>\n",
              "      <td>-718.245970</td>\n",
              "      <td>-718.245970</td>\n",
              "      <td>-718.245970</td>\n",
              "      <td>-718.245970</td>\n",
              "      <td>0.0</td>\n",
              "      <td>0.0</td>\n",
              "      <td>0.0</td>\n",
              "      <td>1.660023e+06</td>\n",
              "    </tr>\n",
              "    <tr>\n",
              "      <th>222</th>\n",
              "      <td>2022-11-21 22:00:00</td>\n",
              "      <td>1.660500e+06</td>\n",
              "      <td>1.630577e+06</td>\n",
              "      <td>1.687222e+06</td>\n",
              "      <td>1.643664e+06</td>\n",
              "      <td>1.676296e+06</td>\n",
              "      <td>-973.018420</td>\n",
              "      <td>-973.018420</td>\n",
              "      <td>-973.018420</td>\n",
              "      <td>-973.018420</td>\n",
              "      <td>-973.018420</td>\n",
              "      <td>-973.018420</td>\n",
              "      <td>0.0</td>\n",
              "      <td>0.0</td>\n",
              "      <td>0.0</td>\n",
              "      <td>1.659527e+06</td>\n",
              "    </tr>\n",
              "    <tr>\n",
              "      <th>223</th>\n",
              "      <td>2022-11-21 23:00:00</td>\n",
              "      <td>1.660259e+06</td>\n",
              "      <td>1.629342e+06</td>\n",
              "      <td>1.689647e+06</td>\n",
              "      <td>1.642300e+06</td>\n",
              "      <td>1.677042e+06</td>\n",
              "      <td>-1766.496347</td>\n",
              "      <td>-1766.496347</td>\n",
              "      <td>-1766.496347</td>\n",
              "      <td>-1766.496347</td>\n",
              "      <td>-1766.496347</td>\n",
              "      <td>-1766.496347</td>\n",
              "      <td>0.0</td>\n",
              "      <td>0.0</td>\n",
              "      <td>0.0</td>\n",
              "      <td>1.658492e+06</td>\n",
              "    </tr>\n",
              "  </tbody>\n",
              "</table>\n",
              "<p>224 rows × 16 columns</p>\n",
              "</div>\n",
              "      <button class=\"colab-df-convert\" onclick=\"convertToInteractive('df-49e67a60-62c2-4b19-819a-88048c76e98c')\"\n",
              "              title=\"Convert this dataframe to an interactive table.\"\n",
              "              style=\"display:none;\">\n",
              "        \n",
              "  <svg xmlns=\"http://www.w3.org/2000/svg\" height=\"24px\"viewBox=\"0 0 24 24\"\n",
              "       width=\"24px\">\n",
              "    <path d=\"M0 0h24v24H0V0z\" fill=\"none\"/>\n",
              "    <path d=\"M18.56 5.44l.94 2.06.94-2.06 2.06-.94-2.06-.94-.94-2.06-.94 2.06-2.06.94zm-11 1L8.5 8.5l.94-2.06 2.06-.94-2.06-.94L8.5 2.5l-.94 2.06-2.06.94zm10 10l.94 2.06.94-2.06 2.06-.94-2.06-.94-.94-2.06-.94 2.06-2.06.94z\"/><path d=\"M17.41 7.96l-1.37-1.37c-.4-.4-.92-.59-1.43-.59-.52 0-1.04.2-1.43.59L10.3 9.45l-7.72 7.72c-.78.78-.78 2.05 0 2.83L4 21.41c.39.39.9.59 1.41.59.51 0 1.02-.2 1.41-.59l7.78-7.78 2.81-2.81c.8-.78.8-2.07 0-2.86zM5.41 20L4 18.59l7.72-7.72 1.47 1.35L5.41 20z\"/>\n",
              "  </svg>\n",
              "      </button>\n",
              "      \n",
              "  <style>\n",
              "    .colab-df-container {\n",
              "      display:flex;\n",
              "      flex-wrap:wrap;\n",
              "      gap: 12px;\n",
              "    }\n",
              "\n",
              "    .colab-df-convert {\n",
              "      background-color: #E8F0FE;\n",
              "      border: none;\n",
              "      border-radius: 50%;\n",
              "      cursor: pointer;\n",
              "      display: none;\n",
              "      fill: #1967D2;\n",
              "      height: 32px;\n",
              "      padding: 0 0 0 0;\n",
              "      width: 32px;\n",
              "    }\n",
              "\n",
              "    .colab-df-convert:hover {\n",
              "      background-color: #E2EBFA;\n",
              "      box-shadow: 0px 1px 2px rgba(60, 64, 67, 0.3), 0px 1px 3px 1px rgba(60, 64, 67, 0.15);\n",
              "      fill: #174EA6;\n",
              "    }\n",
              "\n",
              "    [theme=dark] .colab-df-convert {\n",
              "      background-color: #3B4455;\n",
              "      fill: #D2E3FC;\n",
              "    }\n",
              "\n",
              "    [theme=dark] .colab-df-convert:hover {\n",
              "      background-color: #434B5C;\n",
              "      box-shadow: 0px 1px 3px 1px rgba(0, 0, 0, 0.15);\n",
              "      filter: drop-shadow(0px 1px 2px rgba(0, 0, 0, 0.3));\n",
              "      fill: #FFFFFF;\n",
              "    }\n",
              "  </style>\n",
              "\n",
              "      <script>\n",
              "        const buttonEl =\n",
              "          document.querySelector('#df-49e67a60-62c2-4b19-819a-88048c76e98c button.colab-df-convert');\n",
              "        buttonEl.style.display =\n",
              "          google.colab.kernel.accessAllowed ? 'block' : 'none';\n",
              "\n",
              "        async function convertToInteractive(key) {\n",
              "          const element = document.querySelector('#df-49e67a60-62c2-4b19-819a-88048c76e98c');\n",
              "          const dataTable =\n",
              "            await google.colab.kernel.invokeFunction('convertToInteractive',\n",
              "                                                     [key], {});\n",
              "          if (!dataTable) return;\n",
              "\n",
              "          const docLinkHtml = 'Like what you see? Visit the ' +\n",
              "            '<a target=\"_blank\" href=https://colab.research.google.com/notebooks/data_table.ipynb>data table notebook</a>'\n",
              "            + ' to learn more about interactive tables.';\n",
              "          element.innerHTML = '';\n",
              "          dataTable['output_type'] = 'display_data';\n",
              "          await google.colab.output.renderOutput(dataTable, element);\n",
              "          const docLink = document.createElement('div');\n",
              "          docLink.innerHTML = docLinkHtml;\n",
              "          element.appendChild(docLink);\n",
              "        }\n",
              "      </script>\n",
              "    </div>\n",
              "  </div>\n",
              "  "
            ]
          },
          "metadata": {},
          "execution_count": 27
        }
      ]
    }
  ]
}